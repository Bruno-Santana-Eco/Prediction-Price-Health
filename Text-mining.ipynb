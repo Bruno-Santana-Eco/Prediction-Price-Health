{
 "cells": [
  {
   "cell_type": "code",
   "execution_count": 2,
   "metadata": {},
   "outputs": [
    {
     "name": "stdout",
     "output_type": "stream",
     "text": [
      "Requirement already satisfied: rake-nltk in c:\\users\\brunobezerra\\appdata\\local\\anaconda3\\lib\\site-packages (1.0.6)\n",
      "Requirement already satisfied: nltk<4.0.0,>=3.6.2 in c:\\users\\brunobezerra\\appdata\\local\\anaconda3\\lib\\site-packages (from rake-nltk) (3.7)\n",
      "Requirement already satisfied: tqdm in c:\\users\\brunobezerra\\appdata\\local\\anaconda3\\lib\\site-packages (from nltk<4.0.0,>=3.6.2->rake-nltk) (4.64.1)\n",
      "Requirement already satisfied: click in c:\\users\\brunobezerra\\appdata\\local\\anaconda3\\lib\\site-packages (from nltk<4.0.0,>=3.6.2->rake-nltk) (8.0.4)\n",
      "Requirement already satisfied: joblib in c:\\users\\brunobezerra\\appdata\\local\\anaconda3\\lib\\site-packages (from nltk<4.0.0,>=3.6.2->rake-nltk) (1.1.1)\n",
      "Requirement already satisfied: regex>=2021.8.3 in c:\\users\\brunobezerra\\appdata\\local\\anaconda3\\lib\\site-packages (from nltk<4.0.0,>=3.6.2->rake-nltk) (2022.7.9)\n",
      "Requirement already satisfied: colorama in c:\\users\\brunobezerra\\appdata\\local\\anaconda3\\lib\\site-packages (from click->nltk<4.0.0,>=3.6.2->rake-nltk) (0.4.6)\n",
      "Note: you may need to restart the kernel to use updated packages.\n"
     ]
    }
   ],
   "source": [
    "pip install rake-nltk"
   ]
  },
  {
   "cell_type": "code",
   "execution_count": 1,
   "metadata": {},
   "outputs": [
    {
     "data": {
      "text/plain": [
       "'c:\\\\Users\\\\brunobezerra\\\\PYTHON PROJETOS\\\\PROJETOS\\\\Prediction-Price-Health'"
      ]
     },
     "execution_count": 1,
     "metadata": {},
     "output_type": "execute_result"
    }
   ],
   "source": [
    "pwd"
   ]
  },
  {
   "cell_type": "code",
   "execution_count": null,
   "metadata": {},
   "outputs": [],
   "source": [
    "nltk.download('stopwords')\n",
    "nltk.download('punkt')"
   ]
  },
  {
   "cell_type": "code",
   "execution_count": 3,
   "metadata": {},
   "outputs": [
    {
     "name": "stderr",
     "output_type": "stream",
     "text": [
      "[nltk_data] Downloading package stopwords to\n",
      "[nltk_data]     C:\\Users\\brunobezerra\\AppData\\Roaming\\nltk_data...\n",
      "[nltk_data]   Unzipping corpora\\stopwords.zip.\n",
      "[nltk_data] Downloading package punkt to\n",
      "[nltk_data]     C:\\Users\\brunobezerra\\AppData\\Roaming\\nltk_data...\n",
      "[nltk_data]   Unzipping tokenizers\\punkt.zip.\n"
     ]
    },
    {
     "data": {
      "text/plain": [
       "True"
      ]
     },
     "execution_count": 3,
     "metadata": {},
     "output_type": "execute_result"
    }
   ],
   "source": [
    "from rake_nltk import Rake\n",
    "import nltk\n",
    "\n"
   ]
  },
  {
   "cell_type": "code",
   "execution_count": 5,
   "metadata": {},
   "outputs": [
    {
     "ename": "SyntaxError",
     "evalue": "unterminated string literal (detected at line 7) (1616844880.py, line 7)",
     "output_type": "error",
     "traceback": [
      "\u001b[1;36m  Cell \u001b[1;32mIn[5], line 7\u001b[1;36m\u001b[0m\n\u001b[1;33m    sentences= [\"Introduction As you may know now, ChatGPT is a language generation model developed by OpenAI. you can ask it anything you want.\u001b[0m\n\u001b[1;37m                ^\u001b[0m\n\u001b[1;31mSyntaxError\u001b[0m\u001b[1;31m:\u001b[0m unterminated string literal (detected at line 7)\n"
     ]
    }
   ],
   "source": [
    "\n",
    "\n",
    "# Uses stopwords for english from NLTK, and all puntuation characters by\n",
    "# default\n",
    "r = Rake()\n",
    "\n",
    "\n",
    "# Extraction given the list of strings where each string is a sentence.\n",
    "sentences= [\"Introduction As you may know now, ChatGPT is a language generation model developed by OpenAI. you can ask it anything you want. \n",
    "So why not learn algorithmic trading with ChatGPT? At the beginning, I wanted to just play with it and see what answers I would get. \n",
    "I didnt believe in it, but I can admit I was really impressed. So let me show you how you could use it to learn different types of algorithmic \n",
    "trading (By practicing using Python code examples). But before that, here are some warnings: There is no recommendation of the best algorithm\n",
    " to use DO NOT USE IT to make investment decisions in financial markets. This is in no way an encouragement to invest in financial markets. \n",
    " Take into account the warning raised by ChatGPT on many code python examples it gives.\"]\n",
    "r.extract_keywords_from_text(sentences)# To get keyword phrases ranked highest to lowest.\n",
    "r.get_ranked_phrases()\n",
    "\n",
    "# To get keyword phrases ranked highest to lowest with scores.\n",
    "r.get_ranked_phrases_with_scores()\n",
    "\n"
   ]
  },
  {
   "cell_type": "code",
   "execution_count": 11,
   "metadata": {},
   "outputs": [
    {
     "data": {
      "text/plain": [
       "[(33.0, 'practicing using python code examples ).'),\n",
       " (19.0, 'many code python examples'),\n",
       " (16.0, 'language generation model developed'),\n",
       " (9.0, 'make investment decisions'),\n",
       " (9.0, 'learn different types'),\n",
       " (8.0, 'learn algorithmic trading'),\n",
       " (5.0, 'algorithmic trading'),\n",
       " (4.0, 'would get'),\n",
       " (4.0, 'warning raised'),\n",
       " (4.0, 'really impressed'),\n",
       " (4.0, 'may know'),\n",
       " (4.0, 'financial markets'),\n",
       " (4.0, 'financial markets'),\n",
       " (4.0, 'didnt believe'),\n",
       " (4.0, 'best algorithm'),\n",
       " (3.333333333333333, 'could use'),\n",
       " (1.3333333333333333, 'use'),\n",
       " (1.3333333333333333, 'use'),\n",
       " (1.0, 'way'),\n",
       " (1.0, 'warnings'),\n",
       " (1.0, 'wanted'),\n",
       " (1.0, 'want'),\n",
       " (1.0, 'take'),\n",
       " (1.0, 'show'),\n",
       " (1.0, 'see'),\n",
       " (1.0, 'recommendation'),\n",
       " (1.0, 'play'),\n",
       " (1.0, 'openai'),\n",
       " (1.0, 'let'),\n",
       " (1.0, 'invest'),\n",
       " (1.0, 'introduction'),\n",
       " (1.0, 'gives'),\n",
       " (1.0, 'encouragement'),\n",
       " (1.0, 'chatgpt'),\n",
       " (1.0, 'chatgpt'),\n",
       " (1.0, 'chatgpt'),\n",
       " (1.0, 'beginning'),\n",
       " (1.0, 'ask'),\n",
       " (1.0, 'anything'),\n",
       " (1.0, 'answers'),\n",
       " (1.0, 'admit'),\n",
       " (1.0, 'account')]"
      ]
     },
     "execution_count": 11,
     "metadata": {},
     "output_type": "execute_result"
    }
   ],
   "source": [
    "# default\n",
    "r = Rake()\n",
    "# Extraction given the text.\n",
    "r.extract_keywords_from_text(\"Introduction As you may know now, ChatGPT is a language generation model developed by OpenAI. you can ask it anything you want. So why not learn algorithmic trading with ChatGPT? At the beginning, I wanted to just play with it and see what answers I would get. I didnt believe in it, but I can admit I was really impressed. So let me show you how you could use it to learn different types of algorithmic trading (By practicing using Python code examples). But before that, here are some warnings: There is no recommendation of the best algorithm to use DO NOT USE IT to make investment decisions in financial markets. This is in no way an encouragement to invest in financial markets. Take into account the warning raised by ChatGPT on many code python examples it gives.\")\n",
    "r.get_ranked_phrases()\n",
    "\n",
    "# To get keyword phrases ranked highest to lowest with scores.\n",
    "r.get_ranked_phrases_with_scores()"
   ]
  },
  {
   "cell_type": "code",
   "execution_count": 12,
   "metadata": {},
   "outputs": [
    {
     "name": "stdout",
     "output_type": "stream",
     "text": [
      "practicing using python code examples ).\n",
      "many code python examples\n",
      "language generation model developed\n",
      "make investment decisions\n",
      "learn different types\n",
      "learn algorithmic trading\n",
      "algorithmic trading\n",
      "would get\n",
      "warning raised\n",
      "really impressed\n",
      "may know\n",
      "financial markets\n",
      "financial markets\n",
      "didnt believe\n",
      "best algorithm\n",
      "could use\n",
      "use\n",
      "use\n",
      "way\n",
      "warnings\n",
      "wanted\n",
      "want\n",
      "take\n",
      "show\n",
      "see\n",
      "recommendation\n",
      "play\n",
      "openai\n",
      "let\n",
      "invest\n",
      "introduction\n",
      "gives\n",
      "encouragement\n",
      "chatgpt\n",
      "chatgpt\n",
      "chatgpt\n",
      "beginning\n",
      "ask\n",
      "anything\n",
      "answers\n",
      "admit\n",
      "account\n"
     ]
    }
   ],
   "source": [
    "# Ler o texto de um arquivo\n",
    "with open('teste.txt', 'r') as file:\n",
    "    text = file.read()\n",
    "\n",
    "# Extrair palavras-chave do texto\n",
    "r.extract_keywords_from_text(text)\n",
    "\n",
    "# Obter as frases-chave classificadas do mais alto para o mais baixo\n",
    "key_phrases = r.get_ranked_phrases()\n",
    "\n",
    "# Imprimir as frases-chave\n",
    "for phrase in key_phrases:\n",
    "    print(phrase)"
   ]
  },
  {
   "attachments": {},
   "cell_type": "markdown",
   "metadata": {},
   "source": [
    "### Parte código"
   ]
  },
  {
   "cell_type": "code",
   "execution_count": 13,
   "metadata": {},
   "outputs": [
    {
     "name": "stdout",
     "output_type": "stream",
     "text": [
      "['maçã', 'banana', 'areia']\n"
     ]
    }
   ],
   "source": [
    "import re\n",
    "\n",
    "def select_keywords(text, keywords):\n",
    "    selected_words = []\n",
    "    for keyword in keywords:\n",
    "        pattern = r'\\b{}\\b'.format(re.escape(keyword))  # cria um padrão de correspondência para a palavra-chave\n",
    "        matches = re.findall(pattern, text, flags=re.IGNORECASE)  # encontra todas as correspondências no texto\n",
    "        selected_words.extend(matches)  # adiciona as correspondências à lista de palavras selecionadas\n",
    "    return selected_words\n",
    "\n",
    "\n",
    "text = \"Eu preciso de uma maçã, banana, amendoim, água, areia, computador. \"\n",
    "keywords = ['maçã', 'banana','areia']\n",
    "\n",
    "selected_keywords = select_keywords(text, keywords)\n",
    "print(selected_keywords)"
   ]
  },
  {
   "cell_type": "code",
   "execution_count": 14,
   "metadata": {},
   "outputs": [
    {
     "name": "stdout",
     "output_type": "stream",
     "text": [
      "['banana', 'areia']\n"
     ]
    }
   ],
   "source": [
    "import re\n",
    "\n",
    "def select_keywords(text, keywords):\n",
    "    selected_words = []\n",
    "    for keyword in keywords:\n",
    "        pattern = r'\\b{}\\b'.format(re.escape(keyword))  # cria um padrão de correspondência para a palavra-chave\n",
    "        matches = re.findall(pattern, text, flags=re.IGNORECASE)  # encontra todas as correspondências no texto\n",
    "        selected_words.extend(matches)  # adiciona as correspondências à lista de palavras selecionadas\n",
    "    return selected_words\n",
    "\n",
    "\n",
    "with open('teste1.txt', 'r') as file:\n",
    "    text = file.read()\n",
    "\n",
    "keywords = ['maçã', 'banana','areia']\n",
    "\n",
    "selected_keywords = select_keywords(text, keywords)\n",
    "print(selected_keywords)"
   ]
  },
  {
   "cell_type": "code",
   "execution_count": null,
   "metadata": {},
   "outputs": [],
   "source": []
  }
 ],
 "metadata": {
  "kernelspec": {
   "display_name": "Python 3 (ipykernel)",
   "language": "python",
   "name": "python3"
  },
  "language_info": {
   "codemirror_mode": {
    "name": "ipython",
    "version": 3
   },
   "file_extension": ".py",
   "mimetype": "text/x-python",
   "name": "python",
   "nbconvert_exporter": "python",
   "pygments_lexer": "ipython3",
   "version": "3.10.9"
  }
 },
 "nbformat": 4,
 "nbformat_minor": 2
}
